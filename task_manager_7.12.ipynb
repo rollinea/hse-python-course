{
 "cells": [
  {
   "cell_type": "code",
   "execution_count": 34,
   "id": "793f168a-5c4f-4e51-94cd-62f4599e9d58",
   "metadata": {},
   "outputs": [],
   "source": [
    "from collections import defaultdict"
   ]
  },
  {
   "cell_type": "code",
   "execution_count": 104,
   "id": "3315be65-85ba-46f4-9c9d-e95140838a35",
   "metadata": {},
   "outputs": [],
   "source": [
    "class Task:\n",
    "    def __init__(self, id_, name, description):\n",
    "        self.id_ = id_\n",
    "        self.name = name\n",
    "        self.description = description\n",
    "\n",
    "class SubTask(Task):\n",
    "    def __init__(self, id_, name, description, parent_id):\n",
    "        super().__init__(id_, name, description)\n",
    "        self.parent_id = parent_id\n",
    "\n",
    "class ComplexTask(Task):\n",
    "    def __init__(self, id_, name, description):\n",
    "        super().__init__(id_, name, description)\n",
    "        \n",
    "class TaskManager:\n",
    "\n",
    "    def __init__(self):\n",
    "        self.ids = 0\n",
    "        self.tasks = defaultdict(list)\n",
    "        self.subtasks = defaultdict(list)\n",
    "        self.complex_tasks = defaultdict(list)\n",
    "\n",
    "    def create_task(self, name=None, description=None):\n",
    "        Task(self.ids, name, description)\n",
    "        self.tasks[self.ids] = [name, description]\n",
    "        self.ids += 1\n",
    "\n",
    "    def create_subtask(self, name=None, description=None, parent_id=None):\n",
    "        SubTask(self.ids, name, description,parent_id)\n",
    "        self.tasks[self.ids] = [name, description]\n",
    "        self.subtasks[self.ids] = [name, description]\n",
    "        self.ids += 1\n",
    "\n",
    "    def create_complex_task(self, name=None, description=None,subtasks=None):\n",
    "        \n",
    "        ComplexTask(self.ids, name, description)\n",
    "        self.tasks[self.ids] = [name, description]\n",
    "        self.complex_tasks[self.ids] = [name, description]\n",
    "        complex_task_id = self.ids\n",
    "        self.ids += 1\n",
    "        \n",
    "        for subtask in subtasks:\n",
    "            self.create_subtask(subtask[0], subtask[1], complex_task_id)\n",
    "            \n",
    "    def get_tasks(self):\n",
    "        print(f'Your tasks:\\n{self.tasks}')\n",
    "\n",
    "    def get_subtasks(self):\n",
    "        print(f'Your subtasks:\\n{self.subtasks}')\n",
    "\n",
    "    def get_complex_tasks(self):\n",
    "        print(f'Your complex tasks:\\n{self.complex_tasks}')\n",
    "\n",
    "    def get_tasks_by_id(self, id_):\n",
    "        print(f'Name of task: {self.tasks[id_][0]}\\nDescription of task: {self.tasks[id_][1]}')\n",
    "        \n",
    "    def get_subtasks_by_id(self, id_):\n",
    "        print(f'Name of subtask: {self.subtasks[id_][0]}\\nDescription of subtask: {self.subtasks[id_][1]}')\n",
    "\n",
    "    def get_complex_tasks_by_id(self, id_):\n",
    "        print(f'Name of complex task: {self.complex_tasks[id_][0]}\\nDescription of complex subtask: {self.complex_tasks[id_][1]}')\n",
    "\n",
    "    def remove_tasks(self):\n",
    "        del self.tasks\n",
    "        self.tasks = defaultdict(list)\n",
    "\n",
    "    def remove_subtasks(self):\n",
    "        del self.subtasks\n",
    "        self.subtasks = defaultdict(list)\n",
    "\n",
    "    def remove_complex_tasks(self):\n",
    "        del self.tasks\n",
    "        self.complex_tasks = defaultdict(list)\n",
    "\n",
    "    def remove_task_by_id(self, id):\n",
    "        pass\n",
    "\n",
    "    def remove_subtask_by_id(self, id):\n",
    "        pass\n",
    "\n",
    "    def remove_complex_task_by_id(self, id):\n",
    "        pass\n",
    "\n"
   ]
  },
  {
   "cell_type": "code",
   "execution_count": 105,
   "id": "c660a3c7-6474-4b83-a998-81d0b48d9569",
   "metadata": {},
   "outputs": [],
   "source": [
    "manager = TaskManager()"
   ]
  },
  {
   "cell_type": "code",
   "execution_count": 106,
   "id": "8aee88f7-122e-48c4-ac00-f58b77fb4a7f",
   "metadata": {},
   "outputs": [],
   "source": [
    "manager.create_complex_task('Prepare for exam','You need to learn topics',[['Asymp','Lesson1'],['Merge Sort','Lesson 2']])"
   ]
  },
  {
   "cell_type": "code",
   "execution_count": 107,
   "id": "a23211f9-2dbc-45e0-83fb-b97277212e6e",
   "metadata": {},
   "outputs": [
    {
     "name": "stdout",
     "output_type": "stream",
     "text": [
      "Your complex tasks:\n",
      "defaultdict(<class 'list'>, {0: ['Prepare for exam', 'You need to learn topics']})\n"
     ]
    }
   ],
   "source": [
    "manager.get_complex_tasks()"
   ]
  },
  {
   "cell_type": "code",
   "execution_count": 110,
   "id": "c4533cb4-cc72-4473-b093-a19415e79b88",
   "metadata": {},
   "outputs": [
    {
     "name": "stdout",
     "output_type": "stream",
     "text": [
      "Your subtasks:\n",
      "defaultdict(<class 'list'>, {1: ['Asymp', 'Lesson1'], 2: ['Merge Sort', 'Lesson 2']})\n"
     ]
    }
   ],
   "source": [
    "manager.get_subtasks()"
   ]
  },
  {
   "cell_type": "code",
   "execution_count": 111,
   "id": "67eb21d3-82ad-488d-97ab-03db0752a270",
   "metadata": {},
   "outputs": [
    {
     "name": "stdout",
     "output_type": "stream",
     "text": [
      "Name of subtask: Asymp\n",
      "Description of subtask: Lesson1\n"
     ]
    }
   ],
   "source": [
    "manager.get_subtasks_by_id(1)"
   ]
  },
  {
   "cell_type": "code",
   "execution_count": 112,
   "id": "8186eb1e-c172-4e23-ac4a-e1744cfbf19f",
   "metadata": {},
   "outputs": [],
   "source": [
    "manager.create_task('Simple Task','Drink Water')"
   ]
  },
  {
   "cell_type": "code",
   "execution_count": 114,
   "id": "3a83bee7-d74d-41bc-b59c-ff77f70c208e",
   "metadata": {},
   "outputs": [
    {
     "name": "stdout",
     "output_type": "stream",
     "text": [
      "Your tasks:\n",
      "defaultdict(<class 'list'>, {0: ['Prepare for exam', 'You need to learn topics'], 1: ['Asymp', 'Lesson1'], 2: ['Merge Sort', 'Lesson 2'], 3: ['Simple Task', 'Drink Water']})\n"
     ]
    }
   ],
   "source": [
    "manager.get_tasks()"
   ]
  }
 ],
 "metadata": {
  "kernelspec": {
   "display_name": "Python 3 (ipykernel)",
   "language": "python",
   "name": "python3"
  },
  "language_info": {
   "codemirror_mode": {
    "name": "ipython",
    "version": 3
   },
   "file_extension": ".py",
   "mimetype": "text/x-python",
   "name": "python",
   "nbconvert_exporter": "python",
   "pygments_lexer": "ipython3",
   "version": "3.10.6"
  }
 },
 "nbformat": 4,
 "nbformat_minor": 5
}
